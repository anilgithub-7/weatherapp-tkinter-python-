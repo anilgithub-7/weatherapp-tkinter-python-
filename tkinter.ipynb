{
 "cells": [
  {
   "cell_type": "code",
   "execution_count": 1,
   "metadata": {},
   "outputs": [],
   "source": [
    "import tkinter as tk\n",
    "import requests\n",
    "from tkinter import messagebox"
   ]
  },
  {
   "cell_type": "code",
   "execution_count": 2,
   "metadata": {},
   "outputs": [],
   "source": [
    "HEIGHT=500\n",
    "WIDTH=600"
   ]
  },
  {
   "cell_type": "code",
   "execution_count": 3,
   "metadata": {},
   "outputs": [],
   "source": [
    "def test(entry):\n",
    "    print('this is the entry',entry)"
   ]
  },
  {
   "cell_type": "code",
   "execution_count": 4,
   "metadata": {},
   "outputs": [],
   "source": [
    "def format_response(weather):\n",
    "    try:\n",
    "        name=weather['name']\n",
    "        desc=weather['weather'][0]['description']\n",
    "        temp=weather['main']['temp']\n",
    "        final='City:%s \\nConditions:%s \\nTemperature:%s' %(name,desc,temp)\n",
    "    except:\n",
    "        final=messagebox.showerror(\"warning\",\"go to the entry again\")\n",
    "    return final    "
   ]
  },
  {
   "cell_type": "code",
   "execution_count": 5,
   "metadata": {},
   "outputs": [],
   "source": [
    "def getweather(city):\n",
    "    key='f4f6d4d6934a1ae2de601985ed0a151d'\n",
    "    url='https://api.openweathermap.org/data/2.5/weather'\n",
    "    params={'APPID':key,'q':city,'units':'imperial'}\n",
    "    response=requests.get(url,params=params)\n",
    "    weather=response.json()\n",
    "    label['text']=format_response(weather)"
   ]
  },
  {
   "cell_type": "code",
   "execution_count": 6,
   "metadata": {},
   "outputs": [],
   "source": [
    "root=tk.Tk()"
   ]
  },
  {
   "cell_type": "code",
   "execution_count": 7,
   "metadata": {},
   "outputs": [],
   "source": [
    "canvas=tk.Canvas(root,height=HEIGHT,width=WIDTH,bg='#34ebba')\n",
    "canvas.pack()"
   ]
  },
  {
   "cell_type": "code",
   "execution_count": 8,
   "metadata": {},
   "outputs": [
    {
     "data": {
      "text/plain": [
       "''"
      ]
     },
     "execution_count": 8,
     "metadata": {},
     "output_type": "execute_result"
    }
   ],
   "source": [
    "root.title(\"weatherapp\")"
   ]
  },
  {
   "cell_type": "code",
   "execution_count": 9,
   "metadata": {},
   "outputs": [],
   "source": [
    "frame=tk.Frame(root,bg=\"#80c1ff\",bd=5)\n",
    "frame.place(relx=0.5,rely=0.1,relwidth=0.75,relheight=0.1,anchor=\"n\")"
   ]
  },
  {
   "cell_type": "code",
   "execution_count": 10,
   "metadata": {},
   "outputs": [],
   "source": [
    "entry=tk.Entry(frame)\n",
    "entry.place(relwidth=0.60,relheight=1)"
   ]
  },
  {
   "cell_type": "code",
   "execution_count": 11,
   "metadata": {},
   "outputs": [],
   "source": [
    "button=tk.Button(frame,text=\"GET WEATHER\",font=50,command=lambda:getweather(entry.get()))\n",
    "button.place(relx=0.63,relwidth=0.37,relheight=1)"
   ]
  },
  {
   "cell_type": "code",
   "execution_count": 12,
   "metadata": {},
   "outputs": [],
   "source": [
    "lowerframe=tk.Frame(root,bg=\"#80c1ff\",bd=7)\n",
    "lowerframe.place(relx=0.50,rely=0.25,relwidth=0.75,relheight=0.60,anchor=\"n\")"
   ]
  },
  {
   "cell_type": "code",
   "execution_count": 13,
   "metadata": {},
   "outputs": [],
   "source": [
    "label=tk.Label(lowerframe)\n",
    "label.place(relwidth=1,relheight=1)"
   ]
  },
  {
   "cell_type": "code",
   "execution_count": null,
   "metadata": {},
   "outputs": [],
   "source": [
    "root.mainloop()"
   ]
  },
  {
   "cell_type": "code",
   "execution_count": null,
   "metadata": {},
   "outputs": [],
   "source": []
  }
 ],
 "metadata": {
  "kernelspec": {
   "display_name": "Python 3",
   "language": "python",
   "name": "python3"
  },
  "language_info": {
   "codemirror_mode": {
    "name": "ipython",
    "version": 3
   },
   "file_extension": ".py",
   "mimetype": "text/x-python",
   "name": "python",
   "nbconvert_exporter": "python",
   "pygments_lexer": "ipython3",
   "version": "3.7.6"
  }
 },
 "nbformat": 4,
 "nbformat_minor": 4
}
